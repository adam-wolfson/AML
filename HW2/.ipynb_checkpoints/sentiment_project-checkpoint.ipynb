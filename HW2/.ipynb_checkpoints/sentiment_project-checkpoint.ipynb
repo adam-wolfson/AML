{
 "cells": [
  {
   "cell_type": "markdown",
   "id": "5acacab3",
   "metadata": {},
   "source": [
    "# (a)  Download Sentiment Labelled Sentences Data Set.  There are three data files under the rootfolder.yelp_labelled.txt,amazon_cells_labelled.txt and imdb_labelled.txt. Parse each file with the specifications inreadme.txt. Are the labels balanced? If not, what’s the ratio between the two labels? Explain how you process these files."
   ]
  },
  {
   "cell_type": "code",
   "execution_count": 1,
   "id": "4312e146",
   "metadata": {},
   "outputs": [
    {
     "name": "stderr",
     "output_type": "stream",
     "text": [
      "[nltk_data] Downloading package stopwords to\n",
      "[nltk_data]     /Users/johnwaldo/nltk_data...\n",
      "[nltk_data]   Package stopwords is already up-to-date!\n",
      "[nltk_data] Downloading package wordnet to\n",
      "[nltk_data]     /Users/johnwaldo/nltk_data...\n",
      "[nltk_data]   Package wordnet is already up-to-date!\n"
     ]
    }
   ],
   "source": [
    "import pandas as pd\n",
    "import numpy as np\n",
    "\n",
    "import re\n",
    "import string\n",
    "\n",
    "import glob\n",
    "\n",
    "import nltk\n",
    "from nltk.stem import WordNetLemmatizer, PorterStemmer\n",
    "from nltk.corpus import stopwords\n",
    "\n",
    "nltk.download('stopwords')\n",
    "nltk.download('wordnet')\n",
    "\n",
    "from collections import Counter\n",
    "\n",
    "import math\n",
    "\n",
    "from sklearn.metrics import ConfusionMatrixDisplay, confusion_matrix\n",
    "from sklearn.linear_model import LogisticRegression, LogisticRegressionCV\n",
    "\n",
    "import matplotlib.pyplot as plt\n",
    "\n",
    "\n",
    "# import spacy\n",
    "# import contextualSpellCheck\n",
    "\n",
    "# nlp = spacy.load('en_core_web_sm')\n",
    "# contextualSpellCheck.add_to_pipe(nlp)\n"
   ]
  },
  {
   "cell_type": "markdown",
   "id": "7d8738c5",
   "metadata": {},
   "source": [
    "Load datasets.\n",
    "Reviews are placed into a dataframe with 3 features\n",
    "    dataset: which file this record comes from\n",
    "    msg: the string of the message\n",
    "    review: Integer [0,1] representing good or bad sentiment"
   ]
  },
  {
   "cell_type": "code",
   "execution_count": 2,
   "id": "fef56e76",
   "metadata": {},
   "outputs": [],
   "source": [
    "data_path = './sentiment labelled sentences/'\n",
    "\n",
    "\n",
    "column_names = ['dataset','msg','review']\n",
    "review_data = []\n",
    "\n",
    "for file_path in glob.glob(data_path + \"*\"):\n",
    "    if \"labelled.txt\" in file_path:\n",
    "        data_set = file_path.split(\"/\")[-1].split(\"_\")[0]\n",
    "\n",
    "        file = open(file_path, 'r')\n",
    "        file_lines = file.readlines()\n",
    "        \n",
    "        for line in file_lines:\n",
    "\n",
    "            [msg, review] = line[:-1].split(\"\\t\")\n",
    "\n",
    "            review_data.append([data_set,msg,int(review)])\n",
    "            \n",
    "reviews = pd.DataFrame(data = np.array(review_data), columns = column_names)\n",
    "reviews['review'] = pd.to_numeric(reviews['review'])"
   ]
  },
  {
   "cell_type": "markdown",
   "id": "26a8db69",
   "metadata": {},
   "source": [
    "Now check the label distribution"
   ]
  },
  {
   "cell_type": "code",
   "execution_count": 3,
   "id": "b357a69f",
   "metadata": {
    "scrolled": true
   },
   "outputs": [
    {
     "data": {
      "text/html": [
       "<div>\n",
       "<style scoped>\n",
       "    .dataframe tbody tr th:only-of-type {\n",
       "        vertical-align: middle;\n",
       "    }\n",
       "\n",
       "    .dataframe tbody tr th {\n",
       "        vertical-align: top;\n",
       "    }\n",
       "\n",
       "    .dataframe thead th {\n",
       "        text-align: right;\n",
       "    }\n",
       "</style>\n",
       "<table border=\"1\" class=\"dataframe\">\n",
       "  <thead>\n",
       "    <tr style=\"text-align: right;\">\n",
       "      <th></th>\n",
       "      <th></th>\n",
       "      <th>msg</th>\n",
       "    </tr>\n",
       "    <tr>\n",
       "      <th>dataset</th>\n",
       "      <th>review</th>\n",
       "      <th></th>\n",
       "    </tr>\n",
       "  </thead>\n",
       "  <tbody>\n",
       "    <tr>\n",
       "      <th rowspan=\"2\" valign=\"top\">amazon</th>\n",
       "      <th>0</th>\n",
       "      <td>500</td>\n",
       "    </tr>\n",
       "    <tr>\n",
       "      <th>1</th>\n",
       "      <td>500</td>\n",
       "    </tr>\n",
       "    <tr>\n",
       "      <th rowspan=\"2\" valign=\"top\">imdb</th>\n",
       "      <th>0</th>\n",
       "      <td>500</td>\n",
       "    </tr>\n",
       "    <tr>\n",
       "      <th>1</th>\n",
       "      <td>500</td>\n",
       "    </tr>\n",
       "    <tr>\n",
       "      <th rowspan=\"2\" valign=\"top\">yelp</th>\n",
       "      <th>0</th>\n",
       "      <td>500</td>\n",
       "    </tr>\n",
       "    <tr>\n",
       "      <th>1</th>\n",
       "      <td>500</td>\n",
       "    </tr>\n",
       "  </tbody>\n",
       "</table>\n",
       "</div>"
      ],
      "text/plain": [
       "                msg\n",
       "dataset review     \n",
       "amazon  0       500\n",
       "        1       500\n",
       "imdb    0       500\n",
       "        1       500\n",
       "yelp    0       500\n",
       "        1       500"
      ]
     },
     "execution_count": 3,
     "metadata": {},
     "output_type": "execute_result"
    }
   ],
   "source": [
    "\n",
    "reviews.groupby(['dataset','review']).count()\n"
   ]
  },
  {
   "cell_type": "markdown",
   "id": "ad8c3768",
   "metadata": {},
   "source": [
    "We can see in the table above that each dataset has 500 messages that are labeled 0 and 500 labeled 1. So the labels are balanced"
   ]
  },
  {
   "cell_type": "markdown",
   "id": "8e07ab68",
   "metadata": {},
   "source": [
    "# (b) Pick your preprocessing strategy. Since these sentences are online reviews, they may contain significant amounts of noise and garbage.  You may or may not want to do one or all of the following. Explain the reasons for each of your decision (why or why not).\n",
    "# •  Lowercase all of the words.\n",
    "\n",
    "# •  Lemmatization of all the words (i.e., convert every word to its root so that all of “running,”“run,” and “runs” are converted to “run” and and all of “good,” “well,” “better,” and “best”are converted to “good”; this is easily done using nltk.stem).\n",
    "\n",
    "# •  Strip punctuation.\n",
    "\n",
    "# •  Strip the stop words, e.g., “the”, “and”, “or”.\n",
    "\n",
    "# •  Something else? Tell us about it."
   ]
  },
  {
   "cell_type": "markdown",
   "id": "5040aa96",
   "metadata": {},
   "source": [
    "We will utilize the following preprocessing function. This function will transform a string on the following jobs if they are enabled. The only function that is enabled by default is lowercase of all words.\n",
    "\n",
    "We choose to use lower case only, remove numeric features, and all punctuation to make it more likely that like words share the same token. We decided not to use the lemmatizer because we wanted to see if tense makes an impact. For example, we could see \"I love this item!\" \"I loved this item until...\".\n",
    "\n",
    "We also an additional job:\n",
    "\n",
    "    \"remove_numeric\": will strip any numeric characters\n",
    "    \n",
    "\n"
   ]
  },
  {
   "cell_type": "code",
   "execution_count": 4,
   "id": "90cb0a9e",
   "metadata": {},
   "outputs": [],
   "source": [
    "def messagePreprocess(message, lower_only = True, lemmatizer = None,\n",
    "                  remove_punctuation = False, stop_words = [],\n",
    "                  remove_numeric = False):\n",
    "    \n",
    "    \n",
    "    # Convert all words to lowercase\n",
    "    if lower_only == True:\n",
    "        message = message.lower()\n",
    "    \n",
    "    # Strip punctuation:\n",
    "    if remove_punctuation == True:\n",
    "        \n",
    "        # Check if there is a space between the punctuation:\n",
    "        message = re.sub('([.,!?()])', r' \\1 ', message)\n",
    "        \n",
    "        message = message.translate(str.maketrans('', '', string.punctuation))\n",
    "\n",
    "    \n",
    "    # Strip words with numeric characters:\n",
    "    if remove_numeric == True:\n",
    "        message = ' '.join(s for s in message.split() if not any(c.isdigit() for c in s))\n",
    "        \n",
    "    # If not None, use the lemmatizer supplied\n",
    "    if lemmatizer != None:\n",
    "        message = ' '.join(lemmatizer.lemmatize(s) for s in message.split())\n",
    "        \n",
    "    # Remove any stop words\n",
    "    message = ' '.join(s for s in message.split() if not s in stop_words)\n",
    "\n",
    "    \n",
    "    return message\n",
    "        \n",
    "        "
   ]
  },
  {
   "cell_type": "markdown",
   "id": "60b33c9d",
   "metadata": {},
   "source": [
    "Add a new column \"clean_msg\" that will be the output of the original message after preprocessing"
   ]
  },
  {
   "cell_type": "code",
   "execution_count": 5,
   "id": "4e8bc95c",
   "metadata": {},
   "outputs": [],
   "source": [
    "\n",
    "lemma_type = \"WordNet\"\n",
    "lemmatizer = None\n",
    "if lemma_type == \"Porter\":\n",
    "    lemmatizer = PorterStemmer()\n",
    "    \n",
    "elif lemma_type == \"WordNet\":\n",
    "    lemmatizer = WordNetLemmatizer()\n",
    "\n",
    "stop_words = []\n",
    "#stop_words = stopwords.words('english')\n",
    "\n",
    "clean_msgs = []\n",
    "\n",
    "for i in range(len(reviews)):\n",
    "    msg = reviews.iloc[i,1]\n",
    "    \n",
    "    clean_msg = messagePreprocess(msg,\n",
    "                                  stop_words = stop_words,\n",
    "                                  remove_numeric = True,\n",
    "                                  remove_punctuation = True,\n",
    "                                  lemmatizer = lemmatizer)\n",
    "    \n",
    "    clean_msgs.append(clean_msg)\n",
    "    \n",
    "reviews['clean_msg'] = clean_msgs"
   ]
  },
  {
   "cell_type": "markdown",
   "id": "e04b52b5",
   "metadata": {},
   "source": [
    "# (c) Split training and testing set.In this assignment, for each file, please use the first 400 instances for each label as the training setand the remaining 100 instances as testing set.  In total, there are 2400 reviews for training and 600 reviews for testing."
   ]
  },
  {
   "cell_type": "code",
   "execution_count": 6,
   "id": "c07d8cbc",
   "metadata": {},
   "outputs": [],
   "source": [
    "train_set = reviews.groupby(['dataset','review']).head(400)\n",
    "test_set = reviews.groupby(['dataset','review']).tail(100)"
   ]
  },
  {
   "cell_type": "markdown",
   "id": "6cc19e88",
   "metadata": {},
   "source": [
    "# d) Bag of Words model. Extract features and then represent each review using bag of words model, i.e., every word in the review becomes its own element in a feature vector. In order to do this, first, make one pass through all the reviews in the training set (Explain why we can’t use testing set at this point) and build a dictionary of unique words. Then, make another pass through the review in both the training set and testing set and count up the occurrences of each word in your dictionary.  The ith element of a review’s feature vector is the number of occurrences of the ith dictionary word in the review. Implement the bag of words model and report feature vectors of any two reviews in the training set."
   ]
  },
  {
   "cell_type": "markdown",
   "id": "0dbab1bc",
   "metadata": {},
   "source": [
    "First we get all unique words in the train set. We only take the words in the train data and not the test data because adding any features not in the train data will have a coefficient of 0. This is because they will all be 0 and thus the model cannot learn anything from this constant feature."
   ]
  },
  {
   "cell_type": "code",
   "execution_count": 168,
   "id": "63ba499f",
   "metadata": {},
   "outputs": [],
   "source": [
    "def convertToFeatures(msgs, word_list = None, min_count = 1):\n",
    "    \n",
    "    # Then convert messages to words\n",
    "    msg_words = [[s for s in msg.split()] for msg in msgs]\n",
    "\n",
    "    if word_list == None:\n",
    "        # Then put all the words into a single array\n",
    "        word_list = [word for words in msg_words for word in words]\n",
    "\n",
    "        # First filter out words that are seen less than min_count\n",
    "        word_list = [word for word, freq in Counter(word_list).items() if freq >= min_count]\n",
    "\n",
    "        \n",
    "    # And convert to feature vectors\n",
    "    msg_vectors = np.array([[msg.count(word) for word in word_list] for msg in msg_words])\n",
    "    \n",
    "    \n",
    "    return [msg_vectors, word_list]\n",
    "    \n"
   ]
  },
  {
   "cell_type": "code",
   "execution_count": 205,
   "id": "cd54a6da",
   "metadata": {},
   "outputs": [
    {
     "name": "stdout",
     "output_type": "stream",
     "text": [
      "Message: so there is no way for me to plug it in here in the u unless i go by a converter\n",
      "Vector: [1 1 1 ... 0 0 0]\n",
      "\n",
      "Message: good case excellent value\n",
      "Vector: [0 0 0 ... 0 0 0]\n",
      "\n"
     ]
    }
   ],
   "source": [
    "\n",
    "# Then convert both sets into feature vectors\n",
    "\n",
    "[train_vectors, word_list] = convertToFeatures(train_set['clean_msg'].copy(), min_count = 1)\n",
    "[test_vectors, word_list] = convertToFeatures(test_set['clean_msg'].copy(), word_list = word_list, min_count = 1)\n",
    "\n",
    "# And print a few sample vectors\n",
    "for i in range(2):\n",
    "    print(\"Message: \" + str(train_set['clean_msg'].iloc[i]))\n",
    "    print(\"Vector: \" + str(train_vectors[i]))\n",
    "    print(\"\")\n"
   ]
  },
  {
   "cell_type": "markdown",
   "id": "308fe61e",
   "metadata": {},
   "source": [
    "# e) Pick your postprocessing strategy. Since the vast majority of English words will not appear in most of the reviews, most of the feature vector elements will be 0. This suggests that we need a post processing or normalization strategy that combats the huge variance of the elements in the feature vector.  You may want to use one of the following strategies.  Whatever choices you make, explain why you made the decision.\n",
    "# •log-normalization. For  each  element  of  the  feature  vector x,  transform  it  into f(x)=log(x+1).\n",
    "# •l1 normalization. Normalize the l1 norm of the feature vector, ˆx=x/|x| \n",
    "# •l2 normalization. Normalize the l2 norm of the feature vector,ˆx=x/‖x‖.\n",
    "# •Standardize the data by subtracting the mean and dividing by the variance."
   ]
  },
  {
   "cell_type": "code",
   "execution_count": 199,
   "id": "16faf4da",
   "metadata": {},
   "outputs": [],
   "source": [
    "def postProcess(train_data, test_data, max_cap = None, strats = None):\n",
    "                \n",
    "    if max_cap != None:\n",
    "        \n",
    "        # Upper bound for any datapoint to max_cap\n",
    "        train_data = np.array([[min(max_cap,f) for f in msg] for msg in train_data])\n",
    "        \n",
    "        test_data = np.array([[min(max_cap,f) for f in msg] for msg in test_data])\n",
    "        \n",
    "        \n",
    "    for strat in strats:\n",
    "            \n",
    "        if strat == 'log_norm':\n",
    "            # Add 1 to every element\n",
    "            train_data = [[f+1 for f in msg] for msg in train_data]\n",
    "            train_data = np.log(train_data)\n",
    "            \n",
    "            test_data = [[f+1 for f in msg] for msg in test_data]\n",
    "            test_data = np.log(test_data)\n",
    "            \n",
    "        elif strat == 'l1_norm':\n",
    "            row_sums = train_data.sum(axis=1)\n",
    "            row_sums = np.where(row_sums<1, 1, row_sums)\n",
    "            \n",
    "            train_data = train_data / row_sums[:, np.newaxis]\n",
    "            \n",
    "            row_sums = test_data.sum(axis=1)\n",
    "            row_sums = np.where(row_sums<1, 1, row_sums)\n",
    "            \n",
    "            test_data = test_data / row_sums[:, np.newaxis]\n",
    "            \n",
    "            \n",
    "        elif strat == 'l2_norm':\n",
    "            row_sums = np.sum(np.abs(train_data)**2,axis=1)**(1./2)\n",
    "            row_sums = np.where(row_sums<1, 1, row_sums)\n",
    "\n",
    "            train_data = train_data / row_sums[:, np.newaxis]\n",
    "            \n",
    "            \n",
    "            row_sums = np.sum(np.abs(test_data)**2,axis=1)**(1./2)\n",
    "            row_sums = np.where(row_sums<1, 1, row_sums)\n",
    "\n",
    "            test_data = test_data / row_sums[:, np.newaxis]\n",
    "\n",
    "    if 'standardize' in strats:\n",
    "        test_data = (test_data - np.mean(train_data, axis=0)) / np.std(train_data, axis=0)\n",
    "        \n",
    "        \n",
    "        train_data = (train_data - np.mean(train_data, axis=0)) / np.std(train_data, axis=0)\n",
    "        \n",
    "        \n",
    "\n",
    "    return [train_data, test_data]\n",
    "    "
   ]
  },
  {
   "cell_type": "markdown",
   "id": "6acea512",
   "metadata": {},
   "source": [
    "We only post process by standardizing each feature in order to keep the full integrity of each word and to keep the transformation of each row and column of both the train and test set consistent. We make sure to standardize the test set with respect to the deviation and mean of the train set in order to keep the transformation consistent.\n"
   ]
  },
  {
   "cell_type": "code",
   "execution_count": 218,
   "id": "0734d1c6",
   "metadata": {
    "scrolled": true
   },
   "outputs": [],
   "source": [
    "# List of post processing strategies to use\n",
    "\n",
    "strats = ['standardize']\n",
    "\n",
    "\n",
    "[train_features, test_features] = postProcess(train_vectors, test_vectors, strats = strats)\n"
   ]
  },
  {
   "cell_type": "markdown",
   "id": "5c8bb156",
   "metadata": {},
   "source": [
    "# (f) Sentiment prediction. Train a naive Bayes model on the training set and test on the testing set. Report the classification accuracy and confusion matrix."
   ]
  },
  {
   "cell_type": "markdown",
   "id": "7b8e2e3d",
   "metadata": {},
   "source": [
    "Here we will train a multinomial naive Bayes classifier\n",
    " \\begin{aligned}\\log p(C_{k}\\mid \\mathbf {x} )&\\varpropto \\log \\left(p(C_{k})\\prod _{i=1}^{n}{p_{ki}}^{x_{i}}\\right)\\\\&=\\log p(C_{k})+\\sum _{i=1}^{n}x_{i}\\cdot \\log p_{ki}\\\\&=b+\\mathbf {w} _{k}^{\\top }\\mathbf {x} \\end{aligned}\n",
    "\n",
    "We will solve for k = 1 because there is just two classes and \\begin{aligned}p(C_{k} = 1 \\mid x) = 1 - P(C_{k} = 0 \\mid x)\\end{aligned}\n"
   ]
  },
  {
   "cell_type": "code",
   "execution_count": 220,
   "id": "ac61d698",
   "metadata": {},
   "outputs": [],
   "source": [
    "def trainMNBayes(dataset, alpha = 1):\n",
    "    \n",
    "    [data,target] = dataset\n",
    "    \n",
    "    total_vocab = len(data[0])\n",
    "    \n",
    "    labels, counts = np.unique(target, return_counts=True)\n",
    "    \n",
    "    counts = counts/sum(counts)\n",
    "\n",
    "    label_weights = np.log(counts/sum(counts))\n",
    "    \n",
    "    feature_weights = []\n",
    "\n",
    "    # Loop over message labels\n",
    "    for label in labels:\n",
    "        \n",
    "        label_features = data[np.isin(target, label)]\n",
    "        \n",
    "        total_words = sum(sum(label_features))\n",
    "\n",
    "        # Sum up columns values\n",
    "        col_sums = label_features.sum(axis=0)\n",
    "        \n",
    "    \n",
    "        label_feature_weights = np.log((col_sums + 1)/(total_words + alpha*total_vocab))\n",
    "        \n",
    "        feature_weights.append(label_feature_weights)\n",
    "\n",
    "    feature_weights = np.matrix(feature_weights)\n",
    "\n",
    "    return [label_weights, feature_weights]\n"
   ]
  },
  {
   "cell_type": "code",
   "execution_count": 188,
   "id": "58639fba",
   "metadata": {},
   "outputs": [],
   "source": [
    "def predictMNBayes(data, bayes_weights):\n",
    "    \n",
    "    preds = np.matrix(data)*bayes_weights[1].T\n",
    "    \n",
    "    preds += bayes_weights[0][np.newaxis,:]\n",
    "    \n",
    "    print(preds)\n",
    "    \n",
    "    \n",
    "    preds = np.argmax(preds, axis=1)\n",
    "    \n",
    "    \n",
    "    \n",
    "    return np.asarray(preds).reshape(-1)\n",
    "    \n",
    "    "
   ]
  },
  {
   "cell_type": "code",
   "execution_count": 189,
   "id": "f00ab139",
   "metadata": {},
   "outputs": [],
   "source": [
    "def plotConfusion(actuals, predictions, title = None, size = 12):\n",
    "    \n",
    "    cm = confusion_matrix(actuals, predictions, normalize = 'true')\n",
    "\n",
    "    disp = ConfusionMatrixDisplay(confusion_matrix=cm)\n",
    "\n",
    "    disp = disp.plot()\n",
    "\n",
    "    disp.figure_.set_size_inches(size, size, forward=True)\n",
    "    \n",
    "    if title != None:\n",
    "        disp.ax_.set_title(title)\n",
    "\n",
    "    plt.show()"
   ]
  },
  {
   "cell_type": "code",
   "execution_count": 222,
   "id": "5ca76431",
   "metadata": {
    "scrolled": true
   },
   "outputs": [
    {
     "name": "stdout",
     "output_type": "stream",
     "text": [
      "[[-1.02620131 -0.29711737]\n",
      " [-0.76119024 -0.65573192]\n",
      " [-0.08120607 -1.49254245]\n",
      " ...\n",
      " [-0.43563232 -1.10964698]\n",
      " [-0.55875679 -0.96157988]\n",
      " [ 0.08571564 -1.79025141]]\n",
      "The average accuracy rate is 0.78\n"
     ]
    },
    {
     "data": {
      "image/png": "[encoded data removed]",
      "text/plain": [
       "<Figure size 864x864 with 2 Axes>"
      ]
     },
     "metadata": {
      "needs_background": "light"
     },
     "output_type": "display_data"
    }
   ],
   "source": [
    "bayes_weights = trainMNBayes([train_features, train_set['review']], alpha = 1)\n",
    "\n",
    "predictions = predictMNBayes(test_features, bayes_weights)\n",
    "\n",
    "accuracy = test_set['review'] == list(predictions)\n",
    "avgAcc = np.average(accuracy)\n",
    "\n",
    "print(\"The average accuracy rate is \" + str(avgAcc))\n",
    "\n",
    "plotConfusion(test_set['review'],predictions)\n"
   ]
  },
  {
   "cell_type": "markdown",
   "id": "8e389867",
   "metadata": {},
   "source": [
    "# (g) Logistic regression. Now repeat using logistic regression classification, and compare performance (you can use existing packages here).  Try using both L2 (ridge) regularization and L1(lasso) regularization and report how these affect the classification accuracy and the coefficient vectors (hint: sklearn has a method called LogisticRegressionCV; also note that sklearn doesn’t actually have an implementation of unregularized logistic regression). Inspecting the coefficient vectors, what are the words that play the most important roles in deciding the sentiment of the reviews?"
   ]
  },
  {
   "cell_type": "code",
   "execution_count": 163,
   "id": "ee522157",
   "metadata": {},
   "outputs": [],
   "source": [
    "def evalLogisticModel(train_data, test_data, penalties, Cs):\n",
    "    \n",
    "    [train_features, train_reviews] = train_data\n",
    "    [test_features, test_reviews] = test_data\n",
    "    \n",
    "    for p in penalties:\n",
    "\n",
    "        if p == None:\n",
    "            model = LogisticRegression(penalty = 'none')\n",
    "        else:\n",
    "            model = LogisticRegressionCV(Cs = Cs, penalty = p, solver = 'liblinear')\n",
    "\n",
    "        model.fit(train_features, train_reviews)\n",
    "\n",
    "        print(\"Penalty: \" + str(p))\n",
    "        if p != None:\n",
    "            print(\"Tuned C from CV: \" + str(model.C_))\n",
    "\n",
    "        print(\"Coefs: \" + str(model.coef_))\n",
    "        print(\"10th percentile: \" + str(np.percentile(model.coef_,10)))\n",
    "        print(\"90th percentile: \" + str(np.percentile(model.coef_,90)))\n",
    "        print(\"Median Coef: \" + str(np.median(model.coef_)))\n",
    "        print(\"Average Coef: \" + str(np.average(model.coef_)))\n",
    "        print(\"Coef Sigma: \" + str(np.std(model.coef_)))\n",
    "\n",
    "\n",
    "        predictions = model.predict(test_features)\n",
    "        \n",
    "        accuracy = test_reviews == list(predictions)\n",
    "\n",
    "        avgAcc = round(np.average(accuracy),3)\n",
    "        \n",
    "        title = \"The average accuracy rate is \" + str(avgAcc)\n",
    "\n",
    "        plotConfusion(test_reviews,predictions, title, size = 5)\n"
   ]
  },
  {
   "cell_type": "code",
   "execution_count": 164,
   "id": "c7b4682d",
   "metadata": {},
   "outputs": [
    {
     "name": "stdout",
     "output_type": "stream",
     "text": [
      "Penalty: None\n",
      "Coefs: [[10.91041087 -7.54234191 -5.18894414 ...  1.36961672  3.47300041\n",
      "   3.07513143]]\n",
      "10th percentile: -4.044387892448704\n",
      "90th percentile: 4.076390519880845\n",
      "Median Coef: -0.0038039808467889547\n",
      "Average Coef: -0.047817857540218695\n",
      "Coef Sigma: 3.5440041366178954\n"
     ]
    },
    {
     "data": {
      "image/png": "[encoded data removed]",
      "text/plain": [
       "<Figure size 360x360 with 2 Axes>"
      ]
     },
     "metadata": {
      "needs_background": "light"
     },
     "output_type": "display_data"
    },
    {
     "name": "stdout",
     "output_type": "stream",
     "text": [
      "Penalty: l1\n",
      "Tuned C from CV: [0.5]\n",
      "Coefs: [[ 0.2697968  -0.24265456  0.         ...  0.04205627  0.0786118\n",
      "   0.11108384]]\n",
      "10th percentile: -0.10645116084375268\n",
      "90th percentile: 0.113258228651462\n",
      "Median Coef: 0.0\n",
      "Average Coef: 9.962470807856086e-06\n",
      "Coef Sigma: 0.11909141560064135\n"
     ]
    },
    {
     "data": {
      "image/png": "[encoded data removed]",
      "text/plain": [
       "<Figure size 360x360 with 2 Axes>"
      ]
     },
     "metadata": {
      "needs_background": "light"
     },
     "output_type": "display_data"
    },
    {
     "name": "stdout",
     "output_type": "stream",
     "text": [
      "Penalty: l2\n",
      "Tuned C from CV: [0.5]\n",
      "Coefs: [[ 0.49203815 -0.26879892 -0.07334249 ...  0.05231159  0.182674\n",
      "   0.09934515]]\n",
      "10th percentile: -0.19582962104013357\n",
      "90th percentile: 0.19266119162883746\n",
      "Median Coef: 0.0012790451253928666\n",
      "Average Coef: -0.002034930183540462\n",
      "Coef Sigma: 0.17477323896129368\n"
     ]
    },
    {
     "data": {
      "image/png": "[encoded data removed]",
      "text/plain": [
       "<Figure size 360x360 with 2 Axes>"
      ]
     },
     "metadata": {
      "needs_background": "light"
     },
     "output_type": "display_data"
    }
   ],
   "source": [
    "\n",
    "penalties = [None,'l1','l2']\n",
    "Cs = [.5, 1, 1.5, 2.5, 5, 10]\n",
    "\n",
    "# List of post processing strategies to use\n",
    "strats = ['standardize']\n",
    "\n",
    "[train_features, test_features] = postProcess(train_vectors, test_vectors, strats = strats)\n",
    "\n",
    "train_data = [train_features, train_set['review']]\n",
    "test_data = [test_features, test_set['review']]\n",
    "\n",
    "evalLogisticModel(train_data, test_data, penalties, Cs)\n",
    "\n"
   ]
  },
  {
   "cell_type": "markdown",
   "id": "0a0d7d2a",
   "metadata": {},
   "source": [
    "We notice that without regularization, the coefficents have high deviations and most are non zero.\n",
    "\n",
    "With L1 (Lasso) regularization, the vast majority of the coefficients are set to zero. So, we find that the majority of the words are not important enough or do not have a high enough correlation to review sentiment to make the cut. This doesnt squeeze the important coefficients as much as the Ridge regularization.\n",
    "\n",
    "\n",
    "With L2 (Ridge) regularization, the majority of the coefficients are non zero. However, we notice that the deviation of the coeffecients is the smallest of all three types. Therefore, using Ridge all words are in play, however very few have signficant impact."
   ]
  },
  {
   "cell_type": "markdown",
   "id": "2d336487",
   "metadata": {},
   "source": [
    "# (h) N-gram model. Similar to the bag of words model, but now you build up a dictionary of n-grams, which are contiguous sequences of words.  For example, “Alice fell down the rabbithole” would then map to the 2-grams sequence:  \"Alice fell\", \"fell down\", \"down the\", \"the rabbit\", \"rabbit hole\", and all five of those symbols would be members of the n-gram dictionary. Try n=2, repeat (d)-(g) and report your results."
   ]
  },
  {
   "cell_type": "code",
   "execution_count": 223,
   "id": "5267098f",
   "metadata": {},
   "outputs": [],
   "source": [
    "def writeNGrams(msgs, n_grams):\n",
    "    \n",
    "    for m in range(len(msgs)):\n",
    "        base_words = msgs[m].split()\n",
    "   \n",
    "        for n in range(2,n_grams+1):\n",
    "            msgs[m] += \" \" + ' '.join('*'.join(base_words[s:s+n]) for s in range(len(base_words[::n])))\n",
    "\n",
    "    return msgs\n",
    "\n",
    "# Rewrite the message to feature function\n",
    "def createNGrams(msgs, word_list = None, min_count = 1, n_grams = 1):\n",
    "    \n",
    "    msgs = list(msgs)\n",
    "    \n",
    "    msgs = writeNGrams(msgs, n_grams)\n",
    "\n",
    "    return convertToFeatures(msgs, word_list = word_list, min_count = min_count)\n",
    "    \n",
    "    "
   ]
  },
  {
   "cell_type": "code",
   "execution_count": 224,
   "id": "e2d2fa57",
   "metadata": {},
   "outputs": [],
   "source": [
    "\n",
    "# Create document features with n grams\n",
    "[train_vectors, word_list] = createNGrams(train_set['clean_msg'].copy(),\n",
    "                                          min_count = 2, n_grams = 2)\n",
    "\n",
    "[test_vectors, word_list] = createNGrams(test_set['clean_msg'].copy(),\n",
    "                                          word_list = word_list,\n",
    "                                          min_count = 2, n_grams = 2)\n"
   ]
  },
  {
   "cell_type": "code",
   "execution_count": 225,
   "id": "d885770b",
   "metadata": {},
   "outputs": [],
   "source": [
    "# Implement post processing\n",
    "strats = ['log_norm','standardize']\n",
    "\n",
    "[train_features, test_features] = postProcess(train_vectors, test_vectors, strats = strats)\n",
    "\n",
    "train_data = [train_features, train_set['review']]\n",
    "test_data = [test_features, test_set['review']]\n",
    "\n"
   ]
  },
  {
   "cell_type": "code",
   "execution_count": 227,
   "id": "f96e7e62",
   "metadata": {},
   "outputs": [
    {
     "name": "stdout",
     "output_type": "stream",
     "text": [
      "[[-1.40208775  1.25658115]\n",
      " [-0.79276687 -0.46654159]\n",
      " [-0.66586523 -0.72150689]\n",
      " ...\n",
      " [-0.39120617 -1.68595844]\n",
      " [-0.53978526 -1.31785001]\n",
      " [ 0.09255294 -2.90717172]]\n",
      "The average accuracy rate is 0.79\n"
     ]
    },
    {
     "data": {
      "image/png": "[encoded data removed]",
      "text/plain": [
       "<Figure size 864x864 with 2 Axes>"
      ]
     },
     "metadata": {
      "needs_background": "light"
     },
     "output_type": "display_data"
    }
   ],
   "source": [
    "\n",
    "bayes_weights = trainMNBayes(train_data, alpha = 1)\n",
    "\n",
    "predictions = predictMNBayes(test_data[0], bayes_weights)\n",
    "\n",
    "accuracy = test_data[1] == list(predictions)\n",
    "avgAcc = np.average(accuracy)\n",
    "\n",
    "\n",
    "print(\"The average accuracy rate is \" + str(avgAcc))\n",
    "\n",
    "plotConfusion(test_data[1],predictions)\n"
   ]
  },
  {
   "cell_type": "code",
   "execution_count": 228,
   "id": "77ff9c23",
   "metadata": {},
   "outputs": [
    {
     "name": "stdout",
     "output_type": "stream",
     "text": [
      "Penalty: None\n",
      "Coefs: [[ 1.53001517 -2.14610256 -0.82710186 ...  0.63042521  0.80161125\n",
      "   0.26813877]]\n",
      "10th percentile: -0.8688200696612993\n",
      "90th percentile: 0.8901547628568581\n",
      "Median Coef: -0.0019862007932970787\n",
      "Average Coef: 0.0064556664891388645\n",
      "Coef Sigma: 0.8039718396467136\n"
     ]
    },
    {
     "data": {
      "image/png": "[encoded data removed]",
      "text/plain": [
       "<Figure size 360x360 with 2 Axes>"
      ]
     },
     "metadata": {
      "needs_background": "light"
     },
     "output_type": "display_data"
    },
    {
     "name": "stdout",
     "output_type": "stream",
     "text": [
      "Penalty: l1\n",
      "Tuned C from CV: [0.5]\n",
      "Coefs: [[ 0.11664994 -0.21263299  0.         ...  0.          0.06450479\n",
      "   0.        ]]\n",
      "10th percentile: -0.04878798381626723\n",
      "90th percentile: 0.0516417743430841\n",
      "Median Coef: 0.0\n",
      "Average Coef: 0.001615278976232771\n",
      "Coef Sigma: 0.07855454889496985\n"
     ]
    },
    {
     "data": {
      "image/png": "[encoded data removed]",
      "text/plain": [
       "<Figure size 360x360 with 2 Axes>"
      ]
     },
     "metadata": {
      "needs_background": "light"
     },
     "output_type": "display_data"
    },
    {
     "name": "stdout",
     "output_type": "stream",
     "text": [
      "Penalty: l2\n",
      "Tuned C from CV: [0.5]\n",
      "Coefs: [[ 0.13483609 -0.27644057 -0.0496419  ...  0.0805458   0.08978075\n",
      "   0.03169141]]\n",
      "10th percentile: -0.10433160107719923\n",
      "90th percentile: 0.10425105917751078\n",
      "Median Coef: -0.0014855732259536796\n",
      "Average Coef: -0.0004555182764200815\n",
      "Coef Sigma: 0.09279840194107367\n"
     ]
    },
    {
     "data": {
      "image/png": "[encoded data removed]",
      "text/plain": [
       "<Figure size 360x360 with 2 Axes>"
      ]
     },
     "metadata": {
      "needs_background": "light"
     },
     "output_type": "display_data"
    }
   ],
   "source": [
    "\n",
    "penalties = [None,'l1','l2']\n",
    "Cs = [.5, 1, 1.5, 2.5, 5, 10]\n",
    "\n",
    "evalLogisticModel(train_data, test_data, penalties, Cs)\n",
    "\n"
   ]
  },
  {
   "cell_type": "markdown",
   "id": "4008b6ac",
   "metadata": {},
   "source": [
    "# (i) Algorithms comparison and analysis. According to the above results, compare the performances of naive Bayes, logistic regression, naive Bayes with 2-grams, and logistic regression with 2-grams. Which method performs best in the prediction task and why? What do you learn about the language that people use in online reviews (e.g., expressions that will make the posts positive/negative)? Hint: Inspect the weights learned from logistic regression."
   ]
  },
  {
   "cell_type": "markdown",
   "id": "6182579c",
   "metadata": {},
   "source": [
    "# Accuracy Summary:\n",
    "\n",
    "# 1 Word BoW: .78\n",
    "# 1 Word Logistic Regression: .760\n",
    "# 1 Word Logistic Lasso Regression: .802\n",
    "# 1 Word Logistic Ridge Regression: .778\n",
    "\n",
    "# 2-Gram BoW: .79\n",
    "# 2-Gram Logistic Regression:.755\n",
    "# 2-Gram Logistic Lasso Regression: .837\n",
    "# 2-Gram Logistic Ridge Regression: .798\n",
    "\n",
    "# Interestingly, we see that without regularization using n grams to add more features actually leads to worse accuracy likely due to increased noise or strong covariation in the features. The n-gram Lasso regression works best because it would appear that only a few commonly used words and phrases have significant sentiment prediction power.\n",
    "\n",
    "# Notice that the Lambda values are very high meaning that regularization is highly necessary to reduce model variance\n"
   ]
  },
  {
   "cell_type": "code",
   "execution_count": null,
   "id": "2905f514",
   "metadata": {},
   "outputs": [],
   "source": []
  }
 ],
 "metadata": {
  "kernelspec": {
   "display_name": "Python 3",
   "language": "python",
   "name": "python3"
  },
  "language_info": {
   "codemirror_mode": {
    "name": "ipython",
    "version": 3
   },
   "file_extension": ".py",
   "mimetype": "text/x-python",
   "name": "python",
   "nbconvert_exporter": "python",
   "pygments_lexer": "ipython3",
   "version": "3.8.8"
  }
 },
 "nbformat": 4,
 "nbformat_minor": 5
}
